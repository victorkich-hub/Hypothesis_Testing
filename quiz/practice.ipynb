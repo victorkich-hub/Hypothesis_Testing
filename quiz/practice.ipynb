{
 "cells": [
  {
   "cell_type": "markdown",
   "id": "f6229a84",
   "metadata": {},
   "source": [
    "# Question 1\n",
    "## Superstore Sales Dataset (Tableau Public)\n",
    "\n",
    "Source: [Tableau Superstore Sample Data](https://public.tableau.com/app/sample-data/sample_-_superstore.xls)\n",
    "\n",
    "Tasks\n",
    "\n",
    "- Is the average profit per order greater than $50?\n",
    "\n",
    "- Is there a difference in average sales between East and West regions?\n",
    "\n",
    "- Do product categories differ significantly in their mean discount rates?\n",
    "\n",
    "- Is shipping mode independent of region?\n",
    "\n",
    "- Does a 10% discount lead to more sales than no discount?\n",
    "\n",
    "Formulate and test a Hypothesis for the above questions \n"
   ]
  },
  {
   "cell_type": "code",
   "execution_count": null,
   "id": "8479e189",
   "metadata": {},
   "outputs": [],
   "source": [
    "# your work here (feel  free to add both code and markdown cells)"
   ]
  },
  {
   "cell_type": "markdown",
   "id": "a211cb3a",
   "metadata": {},
   "source": [
    "# Question 2\n",
    "\n",
    "## Titanic Dataset (Kaggle)\n",
    "\n",
    "**Source:** [Kaggle Titanic: Machine Learning from Disaster](https://www.kaggle.com/c/titanic/data)\n",
    "\n",
    "### **Tasks**\n",
    "\n",
    "* Is the average passenger age different from 30 years?\n",
    "* Did males and females pay different average fares?\n",
    "* Do passengers in different travel classes (1st, 2nd, 3rd) differ in their mean age?\n",
    "* Is survival independent of passenger class?\n",
    "* Is survival rate different across embarkation ports (C, Q, S)?\n",
    "* Is survival dependent on gender?\n",
    "\n",
    "**Formulate and test a hypothesis for each of the above questions.**\n"
   ]
  },
  {
   "cell_type": "code",
   "execution_count": null,
   "id": "4af479c4",
   "metadata": {},
   "outputs": [],
   "source": [
    "# your work here (feel  free to add both code and markdown cells)"
   ]
  }
 ],
 "metadata": {
  "language_info": {
   "name": "python"
  }
 },
 "nbformat": 4,
 "nbformat_minor": 5
}
