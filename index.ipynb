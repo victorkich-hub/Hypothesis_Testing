{
 "cells": [
  {
   "cell_type": "markdown",
   "id": "f2b87768",
   "metadata": {},
   "source": [
    "# Hypothesis testing "
   ]
  },
  {
   "cell_type": "markdown",
   "id": "620add7c",
   "metadata": {},
   "source": [
    "Hypothesis testing in statistics is a method used to make inferences or draw conclusions about a population based on sample data. The idea is to assess whether there is enough evidence in a sample to support or reject a claim (or hypothesis) about a population parameter."
   ]
  },
  {
   "cell_type": "code",
   "execution_count": 2,
   "id": "9257a32b",
   "metadata": {},
   "outputs": [],
   "source": [
    "# imports \n",
    "import numpy as np \n",
    "import pandas as pd \n",
    "import seaborn as sns"
   ]
  },
  {
   "cell_type": "code",
   "execution_count": 3,
   "id": "4d7616eb",
   "metadata": {},
   "outputs": [
    {
     "data": {
      "text/html": [
       "<div>\n",
       "<style scoped>\n",
       "    .dataframe tbody tr th:only-of-type {\n",
       "        vertical-align: middle;\n",
       "    }\n",
       "\n",
       "    .dataframe tbody tr th {\n",
       "        vertical-align: top;\n",
       "    }\n",
       "\n",
       "    .dataframe thead th {\n",
       "        text-align: right;\n",
       "    }\n",
       "</style>\n",
       "<table border=\"1\" class=\"dataframe\">\n",
       "  <thead>\n",
       "    <tr style=\"text-align: right;\">\n",
       "      <th></th>\n",
       "      <th>school</th>\n",
       "      <th>sex</th>\n",
       "      <th>age</th>\n",
       "      <th>address</th>\n",
       "      <th>famsize</th>\n",
       "      <th>Pstatus</th>\n",
       "      <th>Medu</th>\n",
       "      <th>Fedu</th>\n",
       "      <th>Mjob</th>\n",
       "      <th>Fjob</th>\n",
       "      <th>...</th>\n",
       "      <th>famrel</th>\n",
       "      <th>freetime</th>\n",
       "      <th>goout</th>\n",
       "      <th>Dalc</th>\n",
       "      <th>Walc</th>\n",
       "      <th>health</th>\n",
       "      <th>absences</th>\n",
       "      <th>G1</th>\n",
       "      <th>G2</th>\n",
       "      <th>G3</th>\n",
       "    </tr>\n",
       "  </thead>\n",
       "  <tbody>\n",
       "    <tr>\n",
       "      <th>0</th>\n",
       "      <td>GP</td>\n",
       "      <td>F</td>\n",
       "      <td>18</td>\n",
       "      <td>U</td>\n",
       "      <td>GT3</td>\n",
       "      <td>A</td>\n",
       "      <td>4</td>\n",
       "      <td>4</td>\n",
       "      <td>at_home</td>\n",
       "      <td>teacher</td>\n",
       "      <td>...</td>\n",
       "      <td>4</td>\n",
       "      <td>3</td>\n",
       "      <td>4</td>\n",
       "      <td>1</td>\n",
       "      <td>1</td>\n",
       "      <td>3</td>\n",
       "      <td>6</td>\n",
       "      <td>5</td>\n",
       "      <td>6</td>\n",
       "      <td>6</td>\n",
       "    </tr>\n",
       "    <tr>\n",
       "      <th>1</th>\n",
       "      <td>GP</td>\n",
       "      <td>F</td>\n",
       "      <td>17</td>\n",
       "      <td>U</td>\n",
       "      <td>GT3</td>\n",
       "      <td>T</td>\n",
       "      <td>1</td>\n",
       "      <td>1</td>\n",
       "      <td>at_home</td>\n",
       "      <td>other</td>\n",
       "      <td>...</td>\n",
       "      <td>5</td>\n",
       "      <td>3</td>\n",
       "      <td>3</td>\n",
       "      <td>1</td>\n",
       "      <td>1</td>\n",
       "      <td>3</td>\n",
       "      <td>4</td>\n",
       "      <td>5</td>\n",
       "      <td>5</td>\n",
       "      <td>6</td>\n",
       "    </tr>\n",
       "    <tr>\n",
       "      <th>2</th>\n",
       "      <td>GP</td>\n",
       "      <td>F</td>\n",
       "      <td>15</td>\n",
       "      <td>U</td>\n",
       "      <td>LE3</td>\n",
       "      <td>T</td>\n",
       "      <td>1</td>\n",
       "      <td>1</td>\n",
       "      <td>at_home</td>\n",
       "      <td>other</td>\n",
       "      <td>...</td>\n",
       "      <td>4</td>\n",
       "      <td>3</td>\n",
       "      <td>2</td>\n",
       "      <td>2</td>\n",
       "      <td>3</td>\n",
       "      <td>3</td>\n",
       "      <td>10</td>\n",
       "      <td>7</td>\n",
       "      <td>8</td>\n",
       "      <td>10</td>\n",
       "    </tr>\n",
       "    <tr>\n",
       "      <th>3</th>\n",
       "      <td>GP</td>\n",
       "      <td>F</td>\n",
       "      <td>15</td>\n",
       "      <td>U</td>\n",
       "      <td>GT3</td>\n",
       "      <td>T</td>\n",
       "      <td>4</td>\n",
       "      <td>2</td>\n",
       "      <td>health</td>\n",
       "      <td>services</td>\n",
       "      <td>...</td>\n",
       "      <td>3</td>\n",
       "      <td>2</td>\n",
       "      <td>2</td>\n",
       "      <td>1</td>\n",
       "      <td>1</td>\n",
       "      <td>5</td>\n",
       "      <td>2</td>\n",
       "      <td>15</td>\n",
       "      <td>14</td>\n",
       "      <td>15</td>\n",
       "    </tr>\n",
       "    <tr>\n",
       "      <th>4</th>\n",
       "      <td>GP</td>\n",
       "      <td>F</td>\n",
       "      <td>16</td>\n",
       "      <td>U</td>\n",
       "      <td>GT3</td>\n",
       "      <td>T</td>\n",
       "      <td>3</td>\n",
       "      <td>3</td>\n",
       "      <td>other</td>\n",
       "      <td>other</td>\n",
       "      <td>...</td>\n",
       "      <td>4</td>\n",
       "      <td>3</td>\n",
       "      <td>2</td>\n",
       "      <td>1</td>\n",
       "      <td>2</td>\n",
       "      <td>5</td>\n",
       "      <td>4</td>\n",
       "      <td>6</td>\n",
       "      <td>10</td>\n",
       "      <td>10</td>\n",
       "    </tr>\n",
       "  </tbody>\n",
       "</table>\n",
       "<p>5 rows × 33 columns</p>\n",
       "</div>"
      ],
      "text/plain": [
       "  school sex  age address famsize Pstatus  Medu  Fedu     Mjob      Fjob  ...  \\\n",
       "0     GP   F   18       U     GT3       A     4     4  at_home   teacher  ...   \n",
       "1     GP   F   17       U     GT3       T     1     1  at_home     other  ...   \n",
       "2     GP   F   15       U     LE3       T     1     1  at_home     other  ...   \n",
       "3     GP   F   15       U     GT3       T     4     2   health  services  ...   \n",
       "4     GP   F   16       U     GT3       T     3     3    other     other  ...   \n",
       "\n",
       "  famrel freetime  goout  Dalc  Walc health absences  G1  G2  G3  \n",
       "0      4        3      4     1     1      3        6   5   6   6  \n",
       "1      5        3      3     1     1      3        4   5   5   6  \n",
       "2      4        3      2     2     3      3       10   7   8  10  \n",
       "3      3        2      2     1     1      5        2  15  14  15  \n",
       "4      4        3      2     1     2      5        4   6  10  10  \n",
       "\n",
       "[5 rows x 33 columns]"
      ]
     },
     "execution_count": 3,
     "metadata": {},
     "output_type": "execute_result"
    }
   ],
   "source": [
    "# data loading\n",
    "df = pd.read_csv('./data/student-mat.csv',delimiter=';')\n",
    "df.head()"
   ]
  },
  {
   "cell_type": "markdown",
   "id": "69980ee9",
   "metadata": {},
   "source": [
    "## Understanding the Null Hypothesis\n",
    "\n",
    "    Null Hypothesis: There is no relationship between A and B\n",
    "    Example: \"There is no relationship between this flu medication and a reduced recovery time from the flu.\"\n",
    "\n",
    "    The null hypothesis is usually denoted as H₀\n",
    "\n",
    "    Alternative Hypothesis: The hypothesis traditionally thought of when creating a hypothesis for an experiment\n",
    "    Example: \"This flu medication reduces recovery time for the flu.\"\n",
    "\n",
    "    The alternative hypothesis is usually denoted as H₁\n"
   ]
  },
  {
   "cell_type": "markdown",
   "id": "e811bdbc",
   "metadata": {},
   "source": [
    "\n",
    "## p-value\n",
    "p-value: The probability of observing a test statistic at least as large as the one observed, by random chance, assuming that the null hypothesis is true.\n"
   ]
  },
  {
   "cell_type": "markdown",
   "id": "511f90f4",
   "metadata": {},
   "source": [
    "## alpha value\n",
    "α(alpha value): The marginal threshold at which you're okay with agreeing that the null hypothesis is implausible enough to be rejected.\n",
    "\n",
    "If you set an alpha value of\n",
    ", you're essentially saying \"I'm okay with accepting my alternative hypothesis as true when we expect that the null hypothesis would randomly cause the results I'm seeing less than 5% of the time.\"\n",
    "\n",
    "\n",
    "Reject H₀ in favor of H₁, if p < α\n",
    "\n",
    "Fail to reject H₀, if p ≥ α\n",
    "\n",
    "\n",
    "An alpha value can be any value set between 0 and 1. However, the most common alpha value in data science is 0.05"
   ]
  },
  {
   "cell_type": "markdown",
   "id": "123b598c",
   "metadata": {},
   "source": [
    "### How to Interpret\n",
    "\n",
    "Assume:\n",
    "\n",
    "    Null Hypothesis (H₀): The average score <= 10.5\n",
    "\n",
    "    Alternative Hypothesis (H₁): The average score > 10.5\n",
    "\n",
    "**Step-by-step interpretation:**\n",
    "\n",
    "    p_value < 0.05\tReject H₀ → statistically significant\n",
    "\n",
    "    p_value >= 0.05\tFail to reject H₀ → not significant\n"
   ]
  },
  {
   "cell_type": "code",
   "execution_count": 4,
   "id": "3555ad7a",
   "metadata": {},
   "outputs": [],
   "source": [
    "# hypothesis testing\n",
    "def hypothesis_test(h0,h1,p_value,alpha=0.05):\n",
    "    if p_value < alpha:\n",
    "        print(f\"Reject H₀ → {h1}\")\n",
    "    else:\n",
    "        print(f\"Fail to reject H₀ → {h0}\")"
   ]
  },
  {
   "cell_type": "markdown",
   "id": "cac22d01",
   "metadata": {},
   "source": [
    "### Type I Error (False Positive)\n",
    "\n",
    "A **Type I Error** occurs when we **reject the null hypothesis (H₀)** even though it is actually **true**.\n",
    "\n",
    "### Definition:\n",
    "> Type I Error is a **false positive** — we detect an effect or difference that doesn't actually exist.\n",
    "\n",
    "### Probability:\n",
    "- The probability of making a Type I Error is denoted by **alpha (α)**.\n",
    "- Common values:  \n",
    "  - α = 0.05 → 5% chance of Type I Error  \n",
    "  - α = 0.01 → 1% chance  \n",
    "  - α = 0.10 → 10% chance\n",
    "\n"
   ]
  },
  {
   "cell_type": "markdown",
   "id": "0e7cb8f8",
   "metadata": {},
   "source": [
    "### Type II Error (False Negative)\n",
    "\n",
    "A **Type II Error** occurs when we **fail to reject the null hypothesis (H₀)** even though it is actually **false**.\n",
    "\n",
    "### Definition:\n",
    "> Type II Error is a **false negative** — we fail to detect a real effect or difference that **actually exists**.\n",
    "\n",
    "### Probability:\n",
    "- The probability of making a Type II Error is denoted by **beta (β)**.\n",
    "- Unlike α (which we set), β depends on:\n",
    "  - Sample size\n",
    "  - Effect size\n",
    "  - Significance level (α)\n",
    "  - Variability in the data"
   ]
  },
  {
   "cell_type": "markdown",
   "id": "3af63323",
   "metadata": {},
   "source": [
    "## One-Tail and Two-Tail Tests\n",
    "\n"
   ]
  },
  {
   "cell_type": "markdown",
   "id": "6b315f4c",
   "metadata": {},
   "source": [
    "### One-tailed test (directional)\n",
    "\n",
    "You test if the sample mean is greater than or less than the population mean.\n",
    "\n",
    "    H₀: μ ≤ μ₀ (or μ ≥ μ₀)\n",
    "\n",
    "    H₁: μ > μ₀ (or μ < μ₀)\n",
    "\n",
    "    Used when: You have a specific directional hypothesis.\n",
    "\n",
    "    Example:\n",
    "    \"Students who took extra classes scored higher than the average.\""
   ]
  },
  {
   "cell_type": "markdown",
   "id": "e158d8cc",
   "metadata": {},
   "source": [
    "### Right-tailed test (testing if sample mean is greater than population mean):\n",
    "\n",
    "    H₀ (null): μ_sample ≤ μ_population\n",
    "\n",
    "    H₁ (alternative): μ_sample > μ_population\n",
    "\n",
    "Use this when you want to detect an increase."
   ]
  },
  {
   "cell_type": "code",
   "execution_count": 5,
   "id": "e3acfd8b",
   "metadata": {},
   "outputs": [
    {
     "data": {
      "text/plain": [
       "np.float64(10.415189873417722)"
      ]
     },
     "execution_count": 5,
     "metadata": {},
     "output_type": "execute_result"
    }
   ],
   "source": [
    "# get the population mean\n",
    "population_mean = df['G3'].mean()\n",
    "population_mean"
   ]
  },
  {
   "cell_type": "code",
   "execution_count": 6,
   "id": "2c5c6a9b",
   "metadata": {},
   "outputs": [
    {
     "data": {
      "text/plain": [
       "np.float64(10.72)"
      ]
     },
     "execution_count": 6,
     "metadata": {},
     "output_type": "execute_result"
    }
   ],
   "source": [
    "# sample 100 random rows\n",
    "sample = df[\"G3\"].sample(n=100)    \n",
    "sample.mean()"
   ]
  },
  {
   "cell_type": "code",
   "execution_count": 7,
   "id": "14217ad5",
   "metadata": {},
   "outputs": [
    {
     "name": "stdout",
     "output_type": "stream",
     "text": [
      "t_stat0.64, p_value0.2619\n"
     ]
    }
   ],
   "source": [
    "from scipy.stats import ttest_1samp\n",
    "\n",
    "# t test to compare the sample mean to the population mean\n",
    "# Perform one-sample t-test\n",
    "t_stat, p_value = ttest_1samp(sample,population_mean,alternative=\"greater\")\n",
    "\n",
    "# For right-tailed test (sample mean > population mean)\n",
    "# p_val_right = p_value / 2 if t_stat > 0 else (1 - p_value) / 2\n",
    "\n",
    "print(f\"t_stat{t_stat:.2f}, p_value{p_value:.4f}\")\n"
   ]
  },
  {
   "cell_type": "code",
   "execution_count": 8,
   "id": "5627f3bb",
   "metadata": {},
   "outputs": [
    {
     "name": "stdout",
     "output_type": "stream",
     "text": [
      "sample mean = 10.72 ,population mean = 10.415189873417722\n",
      "t_stat = 0.6396367093784506 , p_val_right = 0.26194311389997826\n",
      "Fail to reject H₀ → The sample mean <= pop mean\n"
     ]
    }
   ],
   "source": [
    "h0 = \"The sample mean <= pop mean\"\n",
    "h1 = \"The sample mean > pop mean\"\n",
    " \n",
    "print(f\"sample mean = {sample.mean()} ,population mean = {population_mean}\",)\n",
    "print(f't_stat = {t_stat} , p_val_right = {p_value}')\n",
    "hypothesis_test(h0,h1,p_value)"
   ]
  },
  {
   "cell_type": "markdown",
   "id": "b59b70e3",
   "metadata": {},
   "source": [
    "#### Left-tailed test (testing if sample mean is less than population mean):\n",
    "\n",
    "    H₀ (null): μ_sample ≥ μ_population\n",
    "\n",
    "    H₁ (alternative): μ_sample < μ_population\n",
    "\n",
    "Use this when you're checking for a decrease."
   ]
  },
  {
   "cell_type": "code",
   "execution_count": 9,
   "id": "c08ddab3",
   "metadata": {},
   "outputs": [],
   "source": [
    "t_stat, p_value = ttest_1samp(sample,population_mean,alternative=\"less\")"
   ]
  },
  {
   "cell_type": "code",
   "execution_count": 10,
   "id": "6d843c27",
   "metadata": {},
   "outputs": [],
   "source": [
    "\n",
    "# p_val_left = p_value / 2 if t_stat < 0 else 1 - (p_value / 2)"
   ]
  },
  {
   "cell_type": "code",
   "execution_count": 11,
   "id": "bdbe9ae3",
   "metadata": {},
   "outputs": [
    {
     "name": "stdout",
     "output_type": "stream",
     "text": [
      "sample mean = 10.72 ,population mean = 10.415189873417722\n",
      "t_stat = 0.6396367093784506 , p_val_left = 0.7380568861000217\n",
      "Fail to reject H₀ → The sample mean >= population mean\n"
     ]
    }
   ],
   "source": [
    "h1 = \"The sample mean < population mean\"\n",
    "h0 = \"The sample mean >= population mean\"\n",
    "\n",
    "print(f\"sample mean = {sample.mean()} ,population mean = {population_mean}\",)\n",
    "print(f't_stat = {t_stat} , p_val_left = {p_value}')\n",
    "hypothesis_test(h0,h1,p_value)"
   ]
  },
  {
   "cell_type": "code",
   "execution_count": 12,
   "id": "d1ec7ed2",
   "metadata": {},
   "outputs": [],
   "source": [
    "# Examples"
   ]
  },
  {
   "cell_type": "markdown",
   "id": "39902b2c",
   "metadata": {},
   "source": [
    "### Two-tailed test (default in ttest_1samp)\n",
    "\n",
    "You're checking if the sample mean is different (could be higher or lower) than the population mean.\n",
    "\n",
    "    H₀ (Null): μ = μ₀\n",
    "\n",
    "    H₁ (Alternative): μ ≠ μ₀\n",
    "\n",
    "Used when: You don't know the direction of the effect.\n",
    "\n",
    "    Example:\n",
    "    \"Is the average grade different from 10?\"\n",
    "\n",
    "    (You don’t know if it’s higher or lower — just different.)\n",
    "\n",
    "In general, in the alternative hypothesis and in the null hypothesis indicate that this is a two-tailed test."
   ]
  },
  {
   "cell_type": "code",
   "execution_count": 13,
   "id": "76da42d6",
   "metadata": {},
   "outputs": [
    {
     "name": "stdout",
     "output_type": "stream",
     "text": [
      "T-statistic: 0.64\n",
      "P-value: 0.5239\n"
     ]
    }
   ],
   "source": [
    "# Perform two-tailed one-sample t-test\n",
    "t_stat, p_value = ttest_1samp(sample, population_mean,)\n",
    "\n",
    "print(f\"T-statistic: {t_stat:.2f}\")\n",
    "print(f\"P-value: {p_value:.4f}\")"
   ]
  },
  {
   "cell_type": "code",
   "execution_count": 14,
   "id": "c382a03d",
   "metadata": {},
   "outputs": [
    {
     "name": "stdout",
     "output_type": "stream",
     "text": [
      "sample mean = 10.72 ,population mean = 10.415189873417722\n",
      "t_stat = 0.6396367093784506 , p_value = 0.5238862277999565\n",
      "Fail to reject H₀ → The sample mean = population mean\n"
     ]
    }
   ],
   "source": [
    "h1 = \"The sample mean != population mean\"\n",
    "h0 = \"The sample mean = population mean\"\n",
    "\n",
    "print(f\"sample mean = {sample.mean()} ,population mean = {population_mean}\",)\n",
    "print(f't_stat = {t_stat} , p_value = {p_value}')\n",
    "hypothesis_test(h0,h1,p_value)"
   ]
  },
  {
   "cell_type": "markdown",
   "id": "982fbec3",
   "metadata": {},
   "source": [
    "### Two-Sample T-Test (Independent Samples)\n",
    "\n",
    "You're checking if **two independent groups** have **different means** (could be higher or lower).\n",
    "\n",
    "#### Two-tailed test (default in `ttest_ind`):\n",
    "\n",
    "You're testing for any difference — **either** group could have a higher mean.\n",
    "\n",
    "    H₀ (Null): μ₁ = μ₂  \n",
    "    H₁ (Alternative): μ₁ ≠ μ₂\n",
    "\n",
    "Used when:  \n",
    "You want to know **if there's a difference**, but you don't know in **which direction**.\n",
    "\n",
    "    Example:\n",
    "    \"Do students in class A and class B have different average scores?\"\n",
    "    (You're not assuming which class scores higher — you're just checking if they differ.)\n",
    "\n",
    "In general:  \n",
    "- Use this when you expect a **difference**, but you're **not predicting** which group will score higher.\n",
    "- It’s the default test type in `scipy.stats.ttest_ind`.\n",
    "\n",
    "\n",
    "Q: Do male and female students perform differently in G3?"
   ]
  },
  {
   "cell_type": "code",
   "execution_count": 15,
   "id": "e701a2f0",
   "metadata": {},
   "outputs": [
    {
     "data": {
      "text/plain": [
       "(np.float64(9.966346153846153), np.float64(10.914438502673796))"
      ]
     },
     "execution_count": 15,
     "metadata": {},
     "output_type": "execute_result"
    }
   ],
   "source": [
    "from scipy.stats import ttest_ind\n",
    "\n",
    "male_scores = df[df[\"sex\"] == \"M\"][\"G3\"]\n",
    "female_scores = df[df[\"sex\"] == \"F\"][\"G3\"]\n",
    "\n",
    "(female_scores.mean(),male_scores.mean())"
   ]
  },
  {
   "cell_type": "code",
   "execution_count": 16,
   "id": "5b182ff6",
   "metadata": {},
   "outputs": [
    {
     "name": "stdout",
     "output_type": "stream",
     "text": [
      "T-statistic: 2.06\n",
      "P-value: 0.0399\n"
     ]
    }
   ],
   "source": [
    "\n",
    "# Perform two-sample t-test\n",
    "t_stat, p_value = ttest_ind(male_scores,female_scores)\n",
    "print(f\"T-statistic: {t_stat:.2f}\")\n",
    "print(f\"P-value: {p_value:.4f}\")\n"
   ]
  },
  {
   "cell_type": "code",
   "execution_count": 17,
   "id": "6821b862",
   "metadata": {},
   "outputs": [
    {
     "name": "stdout",
     "output_type": "stream",
     "text": [
      "Male scores = 10.914438502673796 ,Female Scores = 9.966346153846153\n",
      "t_stat = 2.061992815503971 , p_val_left = 0.039865332341527636\n",
      "Reject H₀ → male_scores != female score in g3\n"
     ]
    }
   ],
   "source": [
    "h1 = \"male_scores != female score in g3\"\n",
    "h0 = \"male_scores = female score in g3\"\n",
    "\n",
    "print(f\"Male scores = {male_scores.mean()} ,Female Scores = {female_scores.mean()}\",)\n",
    "print(f't_stat = {t_stat} , p_val_left = {p_value}')\n",
    "hypothesis_test(h0,h1,p_value)\n"
   ]
  },
  {
   "cell_type": "code",
   "execution_count": null,
   "id": "ffdf8f49",
   "metadata": {},
   "outputs": [
    {
     "name": "stdout",
     "output_type": "stream",
     "text": [
      "Male scores = 10.914438502673796 ,Female Scores = 9.966346153846153\n",
      "t_stat = 2.061992815503971 , p_val_left = 0.019932666170763818\n",
      "Reject H₀ → male_scores > female score in g3\n"
     ]
    }
   ],
   "source": [
    "# do male student perfom any better than female students in G3\n",
    "# Right tailed test\n",
    "h1 = \"male_scores > female score in g3\"\n",
    "h0 = \"male_scores <= female score in g3\"\n",
    "\n",
    "t_stat,p_value = ttest_ind(male_scores,female_scores,alternative=\"greater\")\n",
    "\n",
    "print(f\"Male scores = {male_scores.mean()} ,Female Scores = {female_scores.mean()}\",)\n",
    "print(f't_stat = {t_stat} , p_val_left = {p_value}')\n",
    "hypothesis_test(h0,h1,p_value)"
   ]
  },
  {
   "cell_type": "code",
   "execution_count": 33,
   "id": "7b641b82",
   "metadata": {},
   "outputs": [
    {
     "name": "stdout",
     "output_type": "stream",
     "text": [
      "Male scores = 10.914438502673796 ,Female Scores = 9.966346153846153\n",
      "t_stat = 2.061992815503971 , p_val_left = 0.9800673338292362\n",
      "Fail to reject H₀ → male_scores >= female score in g3\n"
     ]
    }
   ],
   "source": [
    "# left tailed test\n",
    "# do male student perfom worse than female students in G3\n",
    "\n",
    "h1 = \"male_scores < female score in g3\"\n",
    "h0 = \"male_scores >= female score in g3\"\n",
    "\n",
    "t_stat,p_value = ttest_ind(male_scores,female_scores,alternative=\"less\")\n",
    "\n",
    "print(f\"Male scores = {male_scores.mean()} ,Female Scores = {female_scores.mean()}\",)\n",
    "print(f't_stat = {t_stat} , p_val_left = {p_value}')\n",
    "hypothesis_test(h0,h1,p_value) "
   ]
  },
  {
   "cell_type": "markdown",
   "id": "fd97f664",
   "metadata": {},
   "source": [
    "### Paired T-Test (Dependent Samples)\n",
    "\n",
    "You're checking if the **means of two related (paired) groups** — such as the same students' grades in two periods — are **significantly different**.\n",
    "\n",
    "#### Two-tailed test (default in `ttest_rel`):\n",
    "\n",
    "You're testing for any difference between paired values — the difference could go **either way**.\n",
    "\n",
    "    H₀ (Null): μ_d = 0  \n",
    "    H₁ (Alternative): μ_d ≠ 0\n",
    "\n",
    "Where:  \n",
    "- μ_d = the **mean of the differences** between G1 and G3 scores (i.e., G1 - G3)\n",
    "\n",
    "Used when:  \n",
    "You're interested in whether students' grades changed between two time points.\n",
    "\n",
    "    Example:\n",
    "    \"Did students' final grades (G3) differ from their first period grades (G1)?\"\n",
    "    (You're comparing G1 and G3 for the same students, and you're open to either improvement or decline.)\n",
    "\n",
    "In general:  \n",
    "- Use this when comparing **before and after** scores for the **same students**.\n",
    "- `G1` and `G3` are **paired** since they belong to the same individual.\n",
    "- This is done using `scipy.stats.ttest_rel`.\n"
   ]
  },
  {
   "cell_type": "code",
   "execution_count": 34,
   "id": "aa707ea3",
   "metadata": {},
   "outputs": [
    {
     "name": "stdout",
     "output_type": "stream",
     "text": [
      "T-statistic: -3.55\n",
      "P-value: 0.0004\n"
     ]
    }
   ],
   "source": [
    "from scipy.stats import ttest_rel\n",
    "\n",
    "t_stat, p_value = ttest_rel(df[\"G3\"], df[\"G1\"])\n",
    "print(f\"T-statistic: {t_stat:.2f}\")\n",
    "print(f\"P-value: {p_value:.4f}\")\n"
   ]
  },
  {
   "cell_type": "code",
   "execution_count": 21,
   "id": "adcbd1ad",
   "metadata": {},
   "outputs": [
    {
     "name": "stdout",
     "output_type": "stream",
     "text": [
      "G3 scores Mean = 10.415189873417722 , G1  Scores Mean = 10.90886075949367\n",
      "T-statistic = -3.5517031247185855, P-value = 0.00042906738658041643\n",
      "Reject H₀ → Students G3 perfomance  is different from G1 perfomance\n"
     ]
    }
   ],
   "source": [
    "# Define new hypotheses\n",
    "h0 = \"Students G3 perfomance  is same as G1 perfomance\"\n",
    "h1 = \"Students G3 perfomance  is different from G1 perfomance\"\n",
    "\n",
    "# Perform hypothesis testing\n",
    "print(f\"G3 scores Mean = {df[\"G3\"].mean()} , G1  Scores Mean = {df[\"G1\"].mean()}\")\n",
    "print(f\"T-statistic = {t_stat}, P-value = {p_value}\")\n",
    "hypothesis_test(h0, h1, p_value)"
   ]
  },
  {
   "cell_type": "code",
   "execution_count": null,
   "id": "31f97f92",
   "metadata": {},
   "outputs": [],
   "source": [
    "# right tailed test"
   ]
  },
  {
   "cell_type": "code",
   "execution_count": null,
   "id": "e471bbf0",
   "metadata": {},
   "outputs": [],
   "source": [
    "# left tailed test "
   ]
  },
  {
   "cell_type": "markdown",
   "id": "461fbb14",
   "metadata": {},
   "source": [
    "### One-Way ANOVA (Analysis of Variance)\n",
    "\n",
    "You're checking if the **means of a numeric variable** (e.g., total grades) **differ across more than two groups** — such as levels of mother's education.\n",
    "\n",
    "#### Hypotheses:\n",
    "\n",
    "    H₀ (Null): μ₁ = μ₂ = μ₃ = ... = μₖ  \n",
    "    H₁ (Alternative): At least one group mean is different\n",
    "\n",
    "Used when:  \n",
    "You're comparing **more than two groups** and want to know if **group membership affects** the outcome.\n",
    "\n",
    "    Example:\n",
    "    \"Does a student’s mother's education level affect their total grade (G1 + G2 + G3)?\"\n",
    "    (We're testing if students whose mothers have different education levels score differently on average.)\n",
    "\n",
    "In general:  \n",
    "- Use when your **independent variable is categorical** (e.g., Mjob with 5 levels)\n",
    "- Use when your **dependent variable is numeric** (e.g., total grade)\n"
   ]
  },
  {
   "cell_type": "code",
   "execution_count": 22,
   "id": "5a73b1d4",
   "metadata": {},
   "outputs": [],
   "source": [
    "from scipy.stats import f_oneway\n",
    "import pandas as pd\n",
    "\n",
    "\n",
    "# Create a total grade column\n",
    "df['total_grade'] = df['G1'] + df['G2'] + df['G3']\n",
    "\n",
    "# Group total grades by mother's education/job\n",
    "groups = df.groupby('Medu')['total_grade'].apply(list)\n"
   ]
  },
  {
   "cell_type": "code",
   "execution_count": 35,
   "id": "49a14f90",
   "metadata": {},
   "outputs": [
    {
     "data": {
      "text/plain": [
       "Medu\n",
       "0                                         [24, 43, 46]\n",
       "1    [16, 25, 28, 29, 27, 19, 29, 27, 24, 46, 8, 38...\n",
       "2    [35, 34, 46, 38, 27, 23, 35, 21, 40, 28, 27, 2...\n",
       "3    [26, 53, 44, 28, 16, 33, 30, 41, 35, 34, 36, 2...\n",
       "4    [17, 44, 45, 17, 27, 42, 31, 42, 41, 28, 42, 4...\n",
       "Name: total_grade, dtype: object"
      ]
     },
     "execution_count": 35,
     "metadata": {},
     "output_type": "execute_result"
    }
   ],
   "source": [
    "groups"
   ]
  },
  {
   "cell_type": "code",
   "execution_count": 36,
   "id": "e86196bf",
   "metadata": {},
   "outputs": [
    {
     "name": "stdout",
     "output_type": "stream",
     "text": [
      "F-statistic:6.65\n",
      "p-value: 0.0000\n"
     ]
    }
   ],
   "source": [
    "# Perform one-way ANOVA\n",
    "f_stat, p_value = f_oneway(*groups)\n",
    "\n",
    "print(f\"F-statistic:{f_stat:.2f}\")\n",
    "print(f\"p-value: {p_value:.4f}\")"
   ]
  },
  {
   "cell_type": "code",
   "execution_count": 24,
   "id": "9d3524d5",
   "metadata": {},
   "outputs": [
    {
     "name": "stdout",
     "output_type": "stream",
     "text": [
      "Medu\n",
      "0    37.666667\n",
      "1    27.593220\n",
      "2    30.650485\n",
      "3    31.353535\n",
      "4    35.519084\n",
      "Name: total_grade, dtype: float64\n"
     ]
    }
   ],
   "source": [
    "# Calculate average scores for different levels of mother's education\n",
    "average_scores_by_education = df.groupby('Medu')['total_grade'].mean()\n",
    "\n",
    "# Print the results\n",
    "print(average_scores_by_education)"
   ]
  },
  {
   "cell_type": "code",
   "execution_count": 25,
   "id": "4e55bdef",
   "metadata": {},
   "outputs": [
    {
     "name": "stdout",
     "output_type": "stream",
     "text": [
      "F-statistic = 6.646720488531874, P-value = 3.4959926061031416e-05\n",
      "Reject H₀ → Mother's level of education affects the final score (at least one group mean is different)\n"
     ]
    }
   ],
   "source": [
    "# Define new hypotheses\n",
    "h0 = \"Mother's level of education has no effect on the final score (all group means are equal)\"\n",
    "h1 = \"Mother's level of education affects the final score (at least one group mean is different)\"\n",
    "\n",
    "# Perform hypothesis testing\n",
    "print(f\"F-statistic = {f_stat}, P-value = {p_value}\")\n",
    "hypothesis_test(h0, h1, p_value)\n"
   ]
  },
  {
   "cell_type": "markdown",
   "id": "14eddffd",
   "metadata": {},
   "source": [
    "### Chi-Square Test of Independence\n",
    "\n",
    "You're checking if there is a **relationship between two categorical variables** — like study time level and internet access.\n",
    "\n",
    "#### Hypotheses:\n",
    "\n",
    "    H₀ (Null): The two variables are independent (no association)  \n",
    "    H₁ (Alternative): The two variables are dependent (there is an association)\n",
    "\n",
    "Used when:  \n",
    "You want to know if one **categorical variable** affects or is associated with another.\n",
    "\n",
    "    Example:\n",
    "    \"Is there a relationship between internet access and high study time?\"\n",
    "    (Are students with internet more likely to study more, or is there no link?)\n",
    "\n",
    "In general:\n",
    "\n",
    "    Use Chi-Square when comparing counts/frequencies between categorical groups\n",
    "\n",
    "    This test helps you understand whether the distribution of one variable depends on another\n",
    "\n",
    "\n",
    "\n"
   ]
  },
  {
   "cell_type": "code",
   "execution_count": 26,
   "id": "310468f8",
   "metadata": {},
   "outputs": [
    {
     "name": "stdout",
     "output_type": "stream",
     "text": [
      "Chi2: 2.42, P-value: 0.1200\n"
     ]
    }
   ],
   "source": [
    "from scipy.stats import chi2_contingency\n",
    "\n",
    "# Create a binary column for high vs low study time\n",
    "df[\"high_study\"] = df[\"studytime\"].apply(lambda x: \"High\" if x >= 3 else \"Low\")\n",
    "\n",
    "# Build the contingency table\n",
    "contingency = pd.crosstab(df[\"internet\"], df[\"high_study\"])\n",
    "\n",
    "# Perform Chi-Square test of independence\n",
    "chi2, p, dof, expected = chi2_contingency(contingency)\n",
    "\n",
    "# Output\n",
    "print(f\"Chi2: {chi2:.2f}, P-value: {p:.4f}\")"
   ]
  },
  {
   "cell_type": "code",
   "execution_count": 27,
   "id": "5a823204",
   "metadata": {},
   "outputs": [
    {
     "name": "stdout",
     "output_type": "stream",
     "text": [
      "Chi2 = 2.42, Degrees of Freedom = 1, P-value = 0.1200\n",
      "Fail to reject H₀ → There is no association between internet access and high study time (independent)\n"
     ]
    }
   ],
   "source": [
    "# Define hypotheses\n",
    "h0 = \"There is no association between internet access and high study time (independent)\"\n",
    "h1 = \"There is an association between internet access and high study time (dependent)\"\n",
    "\n",
    "# Perform hypothesis testing\n",
    "print(f\"Chi2 = {chi2:.2f}, Degrees of Freedom = {dof}, P-value = {p:.4f}\")\n",
    "hypothesis_test(h0, h1, p)"
   ]
  },
  {
   "cell_type": "markdown",
   "id": "3c9f7c6a",
   "metadata": {},
   "source": [
    "### Two-Sample T-Test (Independent Samples)\n",
    "\n",
    "You're checking if the **(G3) Score** differs between **students with high alcohol consumption** and **students with low alcohol consumption**.\n",
    "\n",
    "#### Two-tailed test (default in `ttest_ind`):\n",
    "\n",
    "You're testing for any difference — **either** group could have a higher mean.\n",
    "\n",
    "    H₀ (Null): μ₁ = μ₂  \n",
    "    H₁ (Alternative): μ₁ ≠ μ₂\n",
    "\n",
    "Where:\n",
    "- μ₁ = mean total grade for students with high alcohol consumption\n",
    "- μ₂ = mean total grade for students with low alcohol consumption\n",
    "\n",
    "Used when:  \n",
    "You're interested in knowing if there's a difference in grades based on alcohol consumption.\n",
    "\n",
    "    Example:\n",
    "    \"Do students with high alcohol consumption (Walc > 3) perform differently than those with low alcohol consumption (Walc <= 3)?\"\n",
    "\n",
    "In general:  \n",
    "- Use this test to compare the means of **two independent groups**.\n",
    "- The `high_alc` and `low_alc` groups are **independent**, and you're comparing their **mean grades**."
   ]
  },
  {
   "cell_type": "code",
   "execution_count": 28,
   "id": "f9d1fbd6",
   "metadata": {},
   "outputs": [
    {
     "name": "stdout",
     "output_type": "stream",
     "text": [
      "T-statistic: -1.23, P-value: 0.2191\n"
     ]
    }
   ],
   "source": [
    "from scipy.stats import ttest_ind\n",
    "\n",
    "# Create groups based on alcohol consumption\n",
    "high_alc = df[df[\"Walc\"] > 3][\"G3\"]\n",
    "low_alc = df[df[\"Walc\"] <= 3][\"G3\"]\n",
    "\n",
    "# Perform two-sample t-test\n",
    "t_stat, p_value = ttest_ind(high_alc, low_alc)\n",
    "\n",
    "# Output results\n",
    "print(f\"T-statistic: {t_stat:.2f}, P-value: {p_value:.4f}\")"
   ]
  },
  {
   "cell_type": "code",
   "execution_count": 29,
   "id": "bcd420f7",
   "metadata": {},
   "outputs": [
    {
     "name": "stdout",
     "output_type": "stream",
     "text": [
      "High Alcohol Consumption Mean: 9.85\n",
      "Low Alcohol Consumption Mean: 10.56\n"
     ]
    }
   ],
   "source": [
    "print(f\"High Alcohol Consumption Mean: {high_alc.mean():.2f}\")\n",
    "print(f\"Low Alcohol Consumption Mean: {low_alc.mean():.2f}\")"
   ]
  },
  {
   "cell_type": "code",
   "execution_count": 30,
   "id": "edae2dd8",
   "metadata": {},
   "outputs": [
    {
     "name": "stdout",
     "output_type": "stream",
     "text": [
      "T-statistic = -1.23, P-value = 0.2191\n",
      "Fail to reject H₀ → Alcohol consumption has no effect on final scores\n"
     ]
    }
   ],
   "source": [
    "# hypothesis testing\n",
    "\n",
    "h0 = \"Alcohol consumption has no effect on final scores\"\n",
    "h1 = \"Alcohol consumption has an effect on final scores\"\n",
    "print(f\"T-statistic = {t_stat:.2f}, P-value = {p_value:.4f}\")\n",
    "hypothesis_test(h0, h1, p_value)"
   ]
  },
  {
   "cell_type": "markdown",
   "id": "1999ef45",
   "metadata": {},
   "source": [
    "### Cohen’s d (Effect Size)\n",
    "\n",
    "You're calculating **Cohen's d**, which is a measure of the **standardized difference** between the means of two groups. It tells you how large the effect of the independent variable is on the dependent variable, in terms of standard deviations.\n",
    "\n",
    "#### Formula for Cohen’s d:\n",
    "\n",
    "    Cohen's d = (Mean of Group 1 - Mean of Group 2) / Pooled Standard Deviation\n",
    "\n",
    "Where:\n",
    "- **Mean of Group 1**: Mean score for the first group (e.g., male scores)\n",
    "- **Mean of Group 2**: Mean score for the second group (e.g., female scores)\n",
    "- **Pooled Standard Deviation**: Combined standard deviation of both groups\n",
    "\n",
    "Used when:  \n",
    "You're interested in knowing **how big the difference** is between two groups, not just whether it's statistically significant.\n",
    "\n",
    "    Example:\n",
    "    \"How big is the difference in scores between male and female students?\"\n",
    "\n",
    "In general:  \n",
    "- **Cohen’s d** is useful for understanding the **magnitude of an effect**.\n",
    "- It’s often used alongside a t-test or other statistical tests to give context to the significance.\n"
   ]
  },
  {
   "cell_type": "code",
   "execution_count": 31,
   "id": "e44e2c20",
   "metadata": {},
   "outputs": [
    {
     "name": "stdout",
     "output_type": "stream",
     "text": [
      "Cohen's d: 0.21\n"
     ]
    }
   ],
   "source": [
    "\n",
    "mean_diff = male_scores.mean() - female_scores.mean()\n",
    "\n",
    "# Calculate pooled standard deviation\n",
    "pooled_std = np.sqrt((male_scores.std(ddof=1) ** 2 + female_scores.std(ddof=1) ** 2) / 2)\n",
    "\n",
    "# Calculate Cohen's d\n",
    "cohen_d = mean_diff / pooled_std\n",
    "\n",
    "# Output the result\n",
    "print(f\"Cohen's d: {cohen_d:.2f}\")"
   ]
  },
  {
   "cell_type": "markdown",
   "id": "bd7502f2",
   "metadata": {},
   "source": [
    "Interpretation of Cohen's d:\n",
    "\n",
    "    Cohen's d = 0.2 → Small effect size (small difference between the groups)\n",
    "\n",
    "    Cohen's d = 0.5 → Medium effect size (moderate difference)\n",
    "\n",
    "    Cohen's d = 0.8 or higher → Large effect size (substantial difference)\n",
    "\n",
    "In general:\n",
    "\n",
    "    Cohen’s d helps you understand how big the difference is between the two groups, beyond just the statistical significance.\n",
    "\n",
    "    This value provides insight into whether the difference is meaningful in practical terms, not just in statistical terms."
   ]
  }
 ],
 "metadata": {
  "kernelspec": {
   "display_name": "venv",
   "language": "python",
   "name": "python3"
  },
  "language_info": {
   "codemirror_mode": {
    "name": "ipython",
    "version": 3
   },
   "file_extension": ".py",
   "mimetype": "text/x-python",
   "name": "python",
   "nbconvert_exporter": "python",
   "pygments_lexer": "ipython3",
   "version": "3.12.3"
  }
 },
 "nbformat": 4,
 "nbformat_minor": 5
}
